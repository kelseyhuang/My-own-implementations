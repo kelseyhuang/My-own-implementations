{
 "cells": [
  {
   "cell_type": "code",
   "execution_count": 4,
   "metadata": {},
   "outputs": [],
   "source": [
    "from numpy import loadtxt\n",
    "from keras.models import Sequential\n",
    "from keras.layers import Dense\n",
    "from sklearn.model_selection import train_test_split\n",
    "import matplotlib.pyplot as plt"
   ]
  },
  {
   "cell_type": "code",
   "execution_count": 5,
   "metadata": {},
   "outputs": [
    {
     "name": "stdout",
     "output_type": "stream",
     "text": [
      "(768, 9)\n"
     ]
    }
   ],
   "source": [
    "data = loadtxt('pima-indians-diabetes.csv', delimiter=',')\n",
    "print(data.shape)"
   ]
  },
  {
   "cell_type": "code",
   "execution_count": 6,
   "metadata": {},
   "outputs": [
    {
     "name": "stdout",
     "output_type": "stream",
     "text": [
      "(768, 8)\n",
      "[  6.    148.     72.     35.      0.     33.6     0.627  50.      1.   ]\n",
      "(768,)\n"
     ]
    }
   ],
   "source": [
    "X = data[:,0:8]\n",
    "y = data[:,-1]\n",
    "print(X.shape)\n",
    "print(data[0])\n",
    "print(y.shape)"
   ]
  },
  {
   "cell_type": "code",
   "execution_count": 9,
   "metadata": {},
   "outputs": [],
   "source": [
    "X_train, X_test, y_train, y_test=train_test_split(X, y, test_size=0.2, random_state=0)"
   ]
  },
  {
   "cell_type": "code",
   "execution_count": 10,
   "metadata": {},
   "outputs": [],
   "source": [
    "mean_train = X_train.mean(axis=0)\n",
    "std_train = X_train.std(axis=0)\n",
    "X_train = (X_train-mean_train)/std_train\n",
    "X_test = (X_test-mean_train)/std_train"
   ]
  },
  {
   "cell_type": "code",
   "execution_count": 11,
   "metadata": {},
   "outputs": [],
   "source": [
    "model = Sequential()\n",
    "model.add(Dense(12, input_dim=8, activation='relu'))\n",
    "model.add(Dense(6, activation='relu'))\n",
    "model.add(Dense(1, activation='sigmoid'))"
   ]
  },
  {
   "cell_type": "code",
   "execution_count": 12,
   "metadata": {},
   "outputs": [
    {
     "name": "stdout",
     "output_type": "stream",
     "text": [
      "Model: \"sequential\"\n",
      "_________________________________________________________________\n",
      "Layer (type)                 Output Shape              Param #   \n",
      "=================================================================\n",
      "dense (Dense)                (None, 12)                108       \n",
      "_________________________________________________________________\n",
      "dense_1 (Dense)              (None, 6)                 78        \n",
      "_________________________________________________________________\n",
      "dense_2 (Dense)              (None, 1)                 7         \n",
      "=================================================================\n",
      "Total params: 193\n",
      "Trainable params: 193\n",
      "Non-trainable params: 0\n",
      "_________________________________________________________________\n"
     ]
    }
   ],
   "source": [
    "model.summary()"
   ]
  },
  {
   "cell_type": "code",
   "execution_count": 14,
   "metadata": {},
   "outputs": [],
   "source": [
    "model.compile(loss='binary_crossentropy', optimizer='adam', metrics=['accuracy'])"
   ]
  },
  {
   "cell_type": "code",
   "execution_count": 15,
   "metadata": {},
   "outputs": [
    {
     "name": "stdout",
     "output_type": "stream",
     "text": [
      "Epoch 1/120\n",
      "15/15 [==============================] - 1s 23ms/step - loss: 0.6840 - accuracy: 0.5832 - val_loss: 0.6723 - val_accuracy: 0.5909\n",
      "Epoch 2/120\n",
      "15/15 [==============================] - 0s 7ms/step - loss: 0.6618 - accuracy: 0.6329 - val_loss: 0.6503 - val_accuracy: 0.6753\n",
      "Epoch 3/120\n",
      "15/15 [==============================] - 0s 5ms/step - loss: 0.6510 - accuracy: 0.6837 - val_loss: 0.6321 - val_accuracy: 0.6948\n",
      "Epoch 4/120\n",
      "15/15 [==============================] - 0s 4ms/step - loss: 0.6384 - accuracy: 0.7175 - val_loss: 0.6157 - val_accuracy: 0.7208\n",
      "Epoch 5/120\n",
      "15/15 [==============================] - 0s 4ms/step - loss: 0.6269 - accuracy: 0.7013 - val_loss: 0.6019 - val_accuracy: 0.7273\n",
      "Epoch 6/120\n",
      "15/15 [==============================] - 0s 4ms/step - loss: 0.6130 - accuracy: 0.7123 - val_loss: 0.5892 - val_accuracy: 0.7338\n",
      "Epoch 7/120\n",
      "15/15 [==============================] - 0s 4ms/step - loss: 0.5993 - accuracy: 0.7180 - val_loss: 0.5768 - val_accuracy: 0.7273\n",
      "Epoch 8/120\n",
      "15/15 [==============================] - 0s 4ms/step - loss: 0.5816 - accuracy: 0.7412 - val_loss: 0.5656 - val_accuracy: 0.7273\n",
      "Epoch 9/120\n",
      "15/15 [==============================] - 0s 4ms/step - loss: 0.5574 - accuracy: 0.7936 - val_loss: 0.5562 - val_accuracy: 0.7403\n",
      "Epoch 10/120\n",
      "15/15 [==============================] - 0s 4ms/step - loss: 0.5601 - accuracy: 0.7540 - val_loss: 0.5474 - val_accuracy: 0.7403\n",
      "Epoch 11/120\n",
      "15/15 [==============================] - 0s 4ms/step - loss: 0.5448 - accuracy: 0.7511 - val_loss: 0.5376 - val_accuracy: 0.7273\n",
      "Epoch 12/120\n",
      "15/15 [==============================] - 0s 4ms/step - loss: 0.5329 - accuracy: 0.7802 - val_loss: 0.5311 - val_accuracy: 0.7273\n",
      "Epoch 13/120\n",
      "15/15 [==============================] - 0s 4ms/step - loss: 0.5451 - accuracy: 0.7579 - val_loss: 0.5238 - val_accuracy: 0.7273\n",
      "Epoch 14/120\n",
      "15/15 [==============================] - 0s 5ms/step - loss: 0.5311 - accuracy: 0.7444 - val_loss: 0.5171 - val_accuracy: 0.7403\n",
      "Epoch 15/120\n",
      "15/15 [==============================] - 0s 4ms/step - loss: 0.5338 - accuracy: 0.7450 - val_loss: 0.5120 - val_accuracy: 0.7338\n",
      "Epoch 16/120\n",
      "15/15 [==============================] - 0s 4ms/step - loss: 0.5199 - accuracy: 0.7479 - val_loss: 0.5075 - val_accuracy: 0.7403\n",
      "Epoch 17/120\n",
      "15/15 [==============================] - 0s 4ms/step - loss: 0.5175 - accuracy: 0.7610 - val_loss: 0.5041 - val_accuracy: 0.7403\n",
      "Epoch 18/120\n",
      "15/15 [==============================] - 0s 4ms/step - loss: 0.5010 - accuracy: 0.7749 - val_loss: 0.5005 - val_accuracy: 0.7403\n",
      "Epoch 19/120\n",
      "15/15 [==============================] - 0s 4ms/step - loss: 0.4904 - accuracy: 0.7733 - val_loss: 0.4973 - val_accuracy: 0.7403\n",
      "Epoch 20/120\n",
      "15/15 [==============================] - 0s 4ms/step - loss: 0.4925 - accuracy: 0.7973 - val_loss: 0.4949 - val_accuracy: 0.7403\n",
      "Epoch 21/120\n",
      "15/15 [==============================] - 0s 4ms/step - loss: 0.5032 - accuracy: 0.7973 - val_loss: 0.4925 - val_accuracy: 0.7403\n",
      "Epoch 22/120\n",
      "15/15 [==============================] - 0s 4ms/step - loss: 0.4741 - accuracy: 0.8017 - val_loss: 0.4912 - val_accuracy: 0.7403\n",
      "Epoch 23/120\n",
      "15/15 [==============================] - 0s 4ms/step - loss: 0.4960 - accuracy: 0.7753 - val_loss: 0.4894 - val_accuracy: 0.7403\n",
      "Epoch 24/120\n",
      "15/15 [==============================] - 0s 4ms/step - loss: 0.4581 - accuracy: 0.8024 - val_loss: 0.4885 - val_accuracy: 0.7468\n",
      "Epoch 25/120\n",
      "15/15 [==============================] - 0s 4ms/step - loss: 0.4579 - accuracy: 0.7958 - val_loss: 0.4867 - val_accuracy: 0.7403\n",
      "Epoch 26/120\n",
      "15/15 [==============================] - 0s 4ms/step - loss: 0.4792 - accuracy: 0.7737 - val_loss: 0.4858 - val_accuracy: 0.7468\n",
      "Epoch 27/120\n",
      "15/15 [==============================] - 0s 4ms/step - loss: 0.4500 - accuracy: 0.7925 - val_loss: 0.4852 - val_accuracy: 0.7468\n",
      "Epoch 28/120\n",
      "15/15 [==============================] - 0s 4ms/step - loss: 0.4757 - accuracy: 0.7674 - val_loss: 0.4848 - val_accuracy: 0.7403\n",
      "Epoch 29/120\n",
      "15/15 [==============================] - 0s 4ms/step - loss: 0.4611 - accuracy: 0.7796 - val_loss: 0.4851 - val_accuracy: 0.7403\n",
      "Epoch 30/120\n",
      "15/15 [==============================] - 0s 4ms/step - loss: 0.4307 - accuracy: 0.8082 - val_loss: 0.4859 - val_accuracy: 0.7403\n",
      "Epoch 31/120\n",
      "15/15 [==============================] - 0s 4ms/step - loss: 0.4319 - accuracy: 0.8095 - val_loss: 0.4862 - val_accuracy: 0.7403\n",
      "Epoch 32/120\n",
      "15/15 [==============================] - 0s 4ms/step - loss: 0.4434 - accuracy: 0.7863 - val_loss: 0.4848 - val_accuracy: 0.7273\n",
      "Epoch 33/120\n",
      "15/15 [==============================] - 0s 4ms/step - loss: 0.4585 - accuracy: 0.7838 - val_loss: 0.4842 - val_accuracy: 0.7403\n",
      "Epoch 34/120\n",
      "15/15 [==============================] - 0s 4ms/step - loss: 0.4814 - accuracy: 0.7619 - val_loss: 0.4844 - val_accuracy: 0.7338\n",
      "Epoch 35/120\n",
      "15/15 [==============================] - 0s 4ms/step - loss: 0.4533 - accuracy: 0.7830 - val_loss: 0.4850 - val_accuracy: 0.7338\n",
      "Epoch 36/120\n",
      "15/15 [==============================] - 0s 4ms/step - loss: 0.4919 - accuracy: 0.7460 - val_loss: 0.4844 - val_accuracy: 0.7338\n",
      "Epoch 37/120\n",
      "15/15 [==============================] - 0s 4ms/step - loss: 0.4436 - accuracy: 0.7885 - val_loss: 0.4847 - val_accuracy: 0.7338\n",
      "Epoch 38/120\n",
      "15/15 [==============================] - 0s 4ms/step - loss: 0.4385 - accuracy: 0.7863 - val_loss: 0.4852 - val_accuracy: 0.7338\n",
      "Epoch 39/120\n",
      "15/15 [==============================] - 0s 4ms/step - loss: 0.4303 - accuracy: 0.8011 - val_loss: 0.4855 - val_accuracy: 0.7338\n",
      "Epoch 40/120\n",
      "15/15 [==============================] - 0s 5ms/step - loss: 0.4467 - accuracy: 0.7822 - val_loss: 0.4860 - val_accuracy: 0.7338\n",
      "Epoch 41/120\n",
      "15/15 [==============================] - 0s 4ms/step - loss: 0.4604 - accuracy: 0.7821 - val_loss: 0.4863 - val_accuracy: 0.7338\n",
      "Epoch 42/120\n",
      "15/15 [==============================] - 0s 4ms/step - loss: 0.4370 - accuracy: 0.8025 - val_loss: 0.4867 - val_accuracy: 0.7338\n",
      "Epoch 43/120\n",
      "15/15 [==============================] - 0s 4ms/step - loss: 0.4321 - accuracy: 0.8093 - val_loss: 0.4869 - val_accuracy: 0.7338\n",
      "Epoch 44/120\n",
      "15/15 [==============================] - 0s 4ms/step - loss: 0.4667 - accuracy: 0.7743 - val_loss: 0.4858 - val_accuracy: 0.7273\n",
      "Epoch 45/120\n",
      "15/15 [==============================] - 0s 4ms/step - loss: 0.4615 - accuracy: 0.7928 - val_loss: 0.4858 - val_accuracy: 0.7338\n",
      "Epoch 46/120\n",
      "15/15 [==============================] - 0s 5ms/step - loss: 0.4233 - accuracy: 0.8121 - val_loss: 0.4868 - val_accuracy: 0.7273\n",
      "Epoch 47/120\n",
      "15/15 [==============================] - 0s 4ms/step - loss: 0.4332 - accuracy: 0.8054 - val_loss: 0.4865 - val_accuracy: 0.7273\n",
      "Epoch 48/120\n",
      "15/15 [==============================] - 0s 4ms/step - loss: 0.4451 - accuracy: 0.7933 - val_loss: 0.4868 - val_accuracy: 0.7273\n",
      "Epoch 49/120\n",
      "15/15 [==============================] - 0s 4ms/step - loss: 0.4201 - accuracy: 0.8087 - val_loss: 0.4873 - val_accuracy: 0.7273\n",
      "Epoch 50/120\n",
      "15/15 [==============================] - 0s 4ms/step - loss: 0.4337 - accuracy: 0.7989 - val_loss: 0.4872 - val_accuracy: 0.7338\n",
      "Epoch 51/120\n",
      "15/15 [==============================] - 0s 4ms/step - loss: 0.4641 - accuracy: 0.7757 - val_loss: 0.4879 - val_accuracy: 0.7273\n",
      "Epoch 52/120\n",
      "15/15 [==============================] - 0s 4ms/step - loss: 0.4175 - accuracy: 0.8190 - val_loss: 0.4878 - val_accuracy: 0.7273\n",
      "Epoch 53/120\n",
      "15/15 [==============================] - 0s 4ms/step - loss: 0.4231 - accuracy: 0.7950 - val_loss: 0.4878 - val_accuracy: 0.7273\n",
      "Epoch 54/120\n",
      "15/15 [==============================] - 0s 4ms/step - loss: 0.4496 - accuracy: 0.8008 - val_loss: 0.4879 - val_accuracy: 0.7273\n",
      "Epoch 55/120\n",
      "15/15 [==============================] - 0s 4ms/step - loss: 0.4444 - accuracy: 0.8152 - val_loss: 0.4885 - val_accuracy: 0.7273\n",
      "Epoch 56/120\n",
      "15/15 [==============================] - 0s 4ms/step - loss: 0.4807 - accuracy: 0.7749 - val_loss: 0.4886 - val_accuracy: 0.7273\n",
      "Epoch 57/120\n",
      "15/15 [==============================] - 0s 4ms/step - loss: 0.4671 - accuracy: 0.7932 - val_loss: 0.4890 - val_accuracy: 0.7273\n",
      "Epoch 58/120\n",
      "15/15 [==============================] - 0s 4ms/step - loss: 0.4053 - accuracy: 0.8356 - val_loss: 0.4902 - val_accuracy: 0.7273\n",
      "Epoch 59/120\n",
      "15/15 [==============================] - 0s 4ms/step - loss: 0.4424 - accuracy: 0.7987 - val_loss: 0.4902 - val_accuracy: 0.7273\n",
      "Epoch 60/120\n",
      "15/15 [==============================] - 0s 4ms/step - loss: 0.4242 - accuracy: 0.8044 - val_loss: 0.4915 - val_accuracy: 0.7273\n",
      "Epoch 61/120\n",
      "15/15 [==============================] - 0s 4ms/step - loss: 0.4115 - accuracy: 0.8212 - val_loss: 0.4916 - val_accuracy: 0.7273\n",
      "Epoch 62/120\n",
      "15/15 [==============================] - 0s 4ms/step - loss: 0.4192 - accuracy: 0.8173 - val_loss: 0.4925 - val_accuracy: 0.7273\n",
      "Epoch 63/120\n",
      "15/15 [==============================] - 0s 5ms/step - loss: 0.4418 - accuracy: 0.7979 - val_loss: 0.4925 - val_accuracy: 0.7273\n",
      "Epoch 64/120\n",
      "15/15 [==============================] - 0s 4ms/step - loss: 0.4362 - accuracy: 0.8086 - val_loss: 0.4932 - val_accuracy: 0.7273\n",
      "Epoch 65/120\n",
      "15/15 [==============================] - 0s 4ms/step - loss: 0.4177 - accuracy: 0.8236 - val_loss: 0.4932 - val_accuracy: 0.7273\n",
      "Epoch 66/120\n",
      "15/15 [==============================] - 0s 4ms/step - loss: 0.4305 - accuracy: 0.8018 - val_loss: 0.4929 - val_accuracy: 0.7273\n",
      "Epoch 67/120\n",
      "15/15 [==============================] - 0s 4ms/step - loss: 0.4382 - accuracy: 0.7888 - val_loss: 0.4942 - val_accuracy: 0.7273\n",
      "Epoch 68/120\n",
      "15/15 [==============================] - 0s 3ms/step - loss: 0.4040 - accuracy: 0.8105 - val_loss: 0.4949 - val_accuracy: 0.7273\n",
      "Epoch 69/120\n",
      "15/15 [==============================] - 0s 4ms/step - loss: 0.4423 - accuracy: 0.7864 - val_loss: 0.4956 - val_accuracy: 0.7273\n",
      "Epoch 70/120\n",
      "15/15 [==============================] - 0s 4ms/step - loss: 0.4389 - accuracy: 0.7870 - val_loss: 0.4955 - val_accuracy: 0.7273\n",
      "Epoch 71/120\n",
      "15/15 [==============================] - 0s 4ms/step - loss: 0.4272 - accuracy: 0.8071 - val_loss: 0.4963 - val_accuracy: 0.7273\n",
      "Epoch 72/120\n",
      "15/15 [==============================] - 0s 4ms/step - loss: 0.3980 - accuracy: 0.8282 - val_loss: 0.4977 - val_accuracy: 0.7208\n",
      "Epoch 73/120\n",
      "15/15 [==============================] - 0s 4ms/step - loss: 0.4662 - accuracy: 0.7802 - val_loss: 0.4978 - val_accuracy: 0.7208\n",
      "Epoch 74/120\n",
      "15/15 [==============================] - 0s 4ms/step - loss: 0.4314 - accuracy: 0.7928 - val_loss: 0.4988 - val_accuracy: 0.7208\n",
      "Epoch 75/120\n",
      "15/15 [==============================] - 0s 4ms/step - loss: 0.3858 - accuracy: 0.8266 - val_loss: 0.4989 - val_accuracy: 0.7208\n",
      "Epoch 76/120\n",
      "15/15 [==============================] - 0s 4ms/step - loss: 0.3956 - accuracy: 0.8343 - val_loss: 0.4992 - val_accuracy: 0.7208\n",
      "Epoch 77/120\n",
      "15/15 [==============================] - 0s 4ms/step - loss: 0.3909 - accuracy: 0.8299 - val_loss: 0.4992 - val_accuracy: 0.7208\n",
      "Epoch 78/120\n",
      "15/15 [==============================] - 0s 4ms/step - loss: 0.4200 - accuracy: 0.8088 - val_loss: 0.4990 - val_accuracy: 0.7273\n",
      "Epoch 79/120\n",
      "15/15 [==============================] - 0s 4ms/step - loss: 0.3975 - accuracy: 0.8288 - val_loss: 0.5001 - val_accuracy: 0.7208\n",
      "Epoch 80/120\n",
      "15/15 [==============================] - 0s 4ms/step - loss: 0.4426 - accuracy: 0.8054 - val_loss: 0.5005 - val_accuracy: 0.7208\n",
      "Epoch 81/120\n",
      "15/15 [==============================] - 0s 4ms/step - loss: 0.3927 - accuracy: 0.8226 - val_loss: 0.5005 - val_accuracy: 0.7208\n",
      "Epoch 82/120\n",
      "15/15 [==============================] - 0s 4ms/step - loss: 0.4138 - accuracy: 0.8200 - val_loss: 0.4990 - val_accuracy: 0.7273\n",
      "Epoch 83/120\n",
      "15/15 [==============================] - 0s 4ms/step - loss: 0.3836 - accuracy: 0.8420 - val_loss: 0.5000 - val_accuracy: 0.7273\n",
      "Epoch 84/120\n",
      "15/15 [==============================] - 0s 4ms/step - loss: 0.4630 - accuracy: 0.8040 - val_loss: 0.4996 - val_accuracy: 0.7273\n",
      "Epoch 85/120\n",
      "15/15 [==============================] - 0s 4ms/step - loss: 0.3712 - accuracy: 0.8475 - val_loss: 0.5007 - val_accuracy: 0.7273\n",
      "Epoch 86/120\n",
      "15/15 [==============================] - 0s 4ms/step - loss: 0.3967 - accuracy: 0.8202 - val_loss: 0.5001 - val_accuracy: 0.7273\n",
      "Epoch 87/120\n",
      "15/15 [==============================] - 0s 3ms/step - loss: 0.4430 - accuracy: 0.8059 - val_loss: 0.4999 - val_accuracy: 0.7273\n",
      "Epoch 88/120\n",
      "15/15 [==============================] - 0s 4ms/step - loss: 0.4223 - accuracy: 0.8249 - val_loss: 0.5003 - val_accuracy: 0.7273\n",
      "Epoch 89/120\n",
      "15/15 [==============================] - 0s 4ms/step - loss: 0.3899 - accuracy: 0.8412 - val_loss: 0.5010 - val_accuracy: 0.7273\n",
      "Epoch 90/120\n",
      "15/15 [==============================] - 0s 4ms/step - loss: 0.4437 - accuracy: 0.7892 - val_loss: 0.5011 - val_accuracy: 0.7273\n",
      "Epoch 91/120\n",
      "15/15 [==============================] - 0s 4ms/step - loss: 0.3979 - accuracy: 0.8222 - val_loss: 0.5012 - val_accuracy: 0.7273\n",
      "Epoch 92/120\n",
      "15/15 [==============================] - 0s 4ms/step - loss: 0.4041 - accuracy: 0.8269 - val_loss: 0.5018 - val_accuracy: 0.7273\n",
      "Epoch 93/120\n",
      "15/15 [==============================] - 0s 4ms/step - loss: 0.4230 - accuracy: 0.8168 - val_loss: 0.5025 - val_accuracy: 0.7273\n",
      "Epoch 94/120\n",
      "15/15 [==============================] - 0s 3ms/step - loss: 0.3896 - accuracy: 0.8416 - val_loss: 0.5032 - val_accuracy: 0.7208\n",
      "Epoch 95/120\n",
      "15/15 [==============================] - 0s 4ms/step - loss: 0.4014 - accuracy: 0.8331 - val_loss: 0.5043 - val_accuracy: 0.7208\n",
      "Epoch 96/120\n",
      "15/15 [==============================] - 0s 4ms/step - loss: 0.3841 - accuracy: 0.8313 - val_loss: 0.5045 - val_accuracy: 0.7208\n",
      "Epoch 97/120\n",
      "15/15 [==============================] - 0s 4ms/step - loss: 0.4052 - accuracy: 0.8096 - val_loss: 0.5044 - val_accuracy: 0.7273\n",
      "Epoch 98/120\n",
      "15/15 [==============================] - 0s 4ms/step - loss: 0.3873 - accuracy: 0.8457 - val_loss: 0.5052 - val_accuracy: 0.7273\n",
      "Epoch 99/120\n",
      "15/15 [==============================] - 0s 4ms/step - loss: 0.4100 - accuracy: 0.8154 - val_loss: 0.5042 - val_accuracy: 0.7208\n",
      "Epoch 100/120\n",
      "15/15 [==============================] - 0s 4ms/step - loss: 0.4402 - accuracy: 0.8119 - val_loss: 0.5044 - val_accuracy: 0.7273\n",
      "Epoch 101/120\n",
      "15/15 [==============================] - 0s 4ms/step - loss: 0.4112 - accuracy: 0.8088 - val_loss: 0.5051 - val_accuracy: 0.7338\n",
      "Epoch 102/120\n",
      "15/15 [==============================] - 0s 4ms/step - loss: 0.4389 - accuracy: 0.7888 - val_loss: 0.5063 - val_accuracy: 0.7338\n",
      "Epoch 103/120\n",
      "15/15 [==============================] - 0s 4ms/step - loss: 0.3981 - accuracy: 0.8191 - val_loss: 0.5078 - val_accuracy: 0.7338\n",
      "Epoch 104/120\n",
      "15/15 [==============================] - 0s 4ms/step - loss: 0.3874 - accuracy: 0.8382 - val_loss: 0.5070 - val_accuracy: 0.7338\n",
      "Epoch 105/120\n",
      "15/15 [==============================] - 0s 4ms/step - loss: 0.3840 - accuracy: 0.8405 - val_loss: 0.5058 - val_accuracy: 0.7273\n",
      "Epoch 106/120\n",
      "15/15 [==============================] - 0s 4ms/step - loss: 0.3890 - accuracy: 0.8258 - val_loss: 0.5061 - val_accuracy: 0.7273\n",
      "Epoch 107/120\n",
      "15/15 [==============================] - 0s 4ms/step - loss: 0.3790 - accuracy: 0.8341 - val_loss: 0.5076 - val_accuracy: 0.7273\n",
      "Epoch 108/120\n",
      "15/15 [==============================] - 0s 4ms/step - loss: 0.3875 - accuracy: 0.8328 - val_loss: 0.5069 - val_accuracy: 0.7273\n",
      "Epoch 109/120\n",
      "15/15 [==============================] - 0s 4ms/step - loss: 0.3852 - accuracy: 0.8297 - val_loss: 0.5072 - val_accuracy: 0.7338\n",
      "Epoch 110/120\n",
      "15/15 [==============================] - 0s 4ms/step - loss: 0.4125 - accuracy: 0.8144 - val_loss: 0.5078 - val_accuracy: 0.7403\n",
      "Epoch 111/120\n",
      "15/15 [==============================] - 0s 4ms/step - loss: 0.4009 - accuracy: 0.8361 - val_loss: 0.5090 - val_accuracy: 0.7403\n",
      "Epoch 112/120\n",
      "15/15 [==============================] - 0s 4ms/step - loss: 0.4054 - accuracy: 0.8250 - val_loss: 0.5096 - val_accuracy: 0.7338\n",
      "Epoch 113/120\n",
      "15/15 [==============================] - 0s 4ms/step - loss: 0.3857 - accuracy: 0.8282 - val_loss: 0.5100 - val_accuracy: 0.7403\n",
      "Epoch 114/120\n",
      "15/15 [==============================] - 0s 4ms/step - loss: 0.3979 - accuracy: 0.8212 - val_loss: 0.5100 - val_accuracy: 0.7338\n",
      "Epoch 115/120\n",
      "15/15 [==============================] - 0s 4ms/step - loss: 0.3951 - accuracy: 0.8252 - val_loss: 0.5113 - val_accuracy: 0.7403\n",
      "Epoch 116/120\n",
      "15/15 [==============================] - 0s 4ms/step - loss: 0.3798 - accuracy: 0.8135 - val_loss: 0.5113 - val_accuracy: 0.7338\n",
      "Epoch 117/120\n",
      "15/15 [==============================] - 0s 4ms/step - loss: 0.4176 - accuracy: 0.8187 - val_loss: 0.5127 - val_accuracy: 0.7403\n",
      "Epoch 118/120\n",
      "15/15 [==============================] - 0s 4ms/step - loss: 0.3974 - accuracy: 0.8097 - val_loss: 0.5135 - val_accuracy: 0.7403\n",
      "Epoch 119/120\n",
      "15/15 [==============================] - 0s 4ms/step - loss: 0.3623 - accuracy: 0.8473 - val_loss: 0.5137 - val_accuracy: 0.7403\n",
      "Epoch 120/120\n",
      "15/15 [==============================] - 0s 4ms/step - loss: 0.4036 - accuracy: 0.8266 - val_loss: 0.5136 - val_accuracy: 0.7403\n"
     ]
    }
   ],
   "source": [
    "history = model.fit(X_train, y_train, epochs=120, batch_size=32, validation_split=0.25)"
   ]
  },
  {
   "cell_type": "code",
   "execution_count": 16,
   "metadata": {},
   "outputs": [
    {
     "data": {
      "text/plain": [
       "dict_keys(['loss', 'accuracy', 'val_loss', 'val_accuracy'])"
      ]
     },
     "execution_count": 16,
     "metadata": {},
     "output_type": "execute_result"
    }
   ],
   "source": [
    "history.history.keys()"
   ]
  },
  {
   "cell_type": "code",
   "execution_count": 17,
   "metadata": {},
   "outputs": [
    {
     "data": {
      "text/plain": [
       "Text(0.5, 0, 'epoch')"
      ]
     },
     "execution_count": 17,
     "metadata": {},
     "output_type": "execute_result"
    },
    {
     "data": {
      "image/png": "[encoded data removed]",
      "text/plain": [
       "<Figure size 432x288 with 2 Axes>"
      ]
     },
     "metadata": {
      "needs_background": "light"
     },
     "output_type": "display_data"
    }
   ],
   "source": [
    "fig = plt.figure()\n",
    "fig.add_subplot(1,2,1)\n",
    "plt.plot(history.history['loss'], label='train loss')\n",
    "plt.plot(history.history['val_loss'], label='val loss')\n",
    "plt.legend()\n",
    "plt.grid(True)\n",
    "plt.xlim([0,120])\n",
    "plt.ylim([0,1.0])\n",
    "plt.xlabel('epoch')\n",
    "\n",
    "fig.add_subplot(1,2,2)\n",
    "plt.plot(history.history['accuracy'], label='train accuracy')\n",
    "plt.plot(history.history['val_accuracy'], label='val accuracy')\n",
    "plt.legend()\n",
    "plt.grid(True)\n",
    "plt.xlim([0,120])\n",
    "plt.ylim([0,1.0])\n",
    "plt.xlabel('epoch')"
   ]
  },
  {
   "cell_type": "code",
   "execution_count": 18,
   "metadata": {},
   "outputs": [
    {
     "name": "stdout",
     "output_type": "stream",
     "text": [
      "5/5 [==============================] - 0s 1ms/step - loss: 0.5212 - accuracy: 0.7727\n",
      "0.7727272510528564\n"
     ]
    }
   ],
   "source": [
    "loss, accuracy = model.evaluate(X_test, y_test)\n",
    "print(accuracy)"
   ]
  },
  {
   "cell_type": "code",
   "execution_count": 24,
   "metadata": {},
   "outputs": [],
   "source": [
    "y_pred = (model.predict(X_test)>0.5).astype('int32')\n"
   ]
  },
  {
   "cell_type": "code",
   "execution_count": 25,
   "metadata": {},
   "outputs": [
    {
     "name": "stdout",
     "output_type": "stream",
     "text": [
      "predict: [1] expected: 1.0\n",
      "predict: [0] expected: 0.0\n",
      "predict: [0] expected: 0.0\n",
      "predict: [1] expected: 1.0\n",
      "predict: [0] expected: 0.0\n",
      "predict: [0] expected: 0.0\n",
      "predict: [1] expected: 1.0\n",
      "predict: [1] expected: 1.0\n",
      "predict: [1] expected: 0.0\n",
      "predict: [1] expected: 0.0\n"
     ]
    }
   ],
   "source": [
    "for i in range(10):\n",
    "    print('predict:', y_pred[i], 'expected:', y_test[i])"
   ]
  },
  {
   "cell_type": "code",
   "execution_count": null,
   "metadata": {},
   "outputs": [],
   "source": []
  }
 ],
 "metadata": {
  "kernelspec": {
   "display_name": "Python 3",
   "language": "python",
   "name": "python3"
  },
  "language_info": {
   "codemirror_mode": {
    "name": "ipython",
    "version": 3
   },
   "file_extension": ".py",
   "mimetype": "text/x-python",
   "name": "python",
   "nbconvert_exporter": "python",
   "pygments_lexer": "ipython3",
   "version": "3.8.3"
  }
 },
 "nbformat": 4,
 "nbformat_minor": 4
}
