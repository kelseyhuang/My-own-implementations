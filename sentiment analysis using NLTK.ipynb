{
 "cells": [
  {
   "cell_type": "code",
   "execution_count": 1,
   "metadata": {},
   "outputs": [],
   "source": [
    "import pandas as pd\n",
    "import nltk\n",
    "import numpy as np\n",
    "import string\n",
    "#nltk.download('stopwords')\n",
    "from nltk.corpus import stopwords  \n",
    "from nltk.tokenize import word_tokenize "
   ]
  },
  {
   "cell_type": "code",
   "execution_count": 2,
   "metadata": {},
   "outputs": [
    {
     "name": "stdout",
     "output_type": "stream",
     "text": [
      "     Sentiment                                             Review\n",
      "0          Neg   In 1992 we bought a new Taurus and we really ...\n",
      "1          Neg   The last business trip  I drove to San Franci...\n",
      "2          Neg   My husband and I purchased a 1990 Ford F250 a...\n",
      "3          Neg   I feel I have a thorough opinion of this truc...\n",
      "4          Neg   AS a mother of 3  all of whom are still in ca...\n",
      "...        ...                                                ...\n",
      "1377       Pos   In June we bought the Sony Limited Edition Fo...\n",
      "1378       Pos   After 140 000 miles  we decided to replace my...\n",
      "1379       Pos   The Ford Focus is a great little record setti...\n",
      "1380       Pos   I needed a new car because my hyundai excel 9...\n",
      "1381       Pos   The 2000 Ford Focus SE 4 door sedan has a spa...\n",
      "\n",
      "[1382 rows x 2 columns]\n"
     ]
    }
   ],
   "source": [
    "#read the review data CSV file\n",
    "rawdata = pd.read_csv('car_reviews.csv')\n",
    "print(rawdata)\n",
    "data=rawdata.copy() "
   ]
  },
  {
   "cell_type": "code",
   "execution_count": 3,
   "metadata": {},
   "outputs": [],
   "source": [
    "#convert sentiment to binary values\n",
    "data.Sentiment[data.Sentiment=='Neg'] = 0\n",
    "data.Sentiment[data.Sentiment=='Pos'] = 1\n",
    "data.Sentiment=data.Sentiment.astype('int')\n"
   ]
  },
  {
   "cell_type": "code",
   "execution_count": 4,
   "metadata": {},
   "outputs": [
    {
     "name": "stdout",
     "output_type": "stream",
     "text": [
      "Before pre-processing:  In 1992 we bought a new Taurus and we really loved it  So in 1999 we decided to try a new Taurus  I did not care for the style of the newer version  but bought it anyway I do not like the new car half as much as i liked our other one  Thee dash is much to deep and takes up a lot of room  I do not find the seats as comfortable and the way the sides stick out further than the strip that should protect your card from denting It drives nice and has good pick up  But you can not see the hood at all from the driver seat and judging and parking is difficult  It has a very small gas tank I would not buy a Taurus if I had it to do over  I would rather have my 1992 back  I dont think the style is as nice as the the 1992  and it was a mistake to change the style  In less than a month we had a dead battery and a flat tire \n"
     ]
    },
    {
     "name": "stderr",
     "output_type": "stream",
     "text": [
      "<ipython-input-4-65c6f92b766a>:14: SettingWithCopyWarning: \n",
      "A value is trying to be set on a copy of a slice from a DataFrame\n",
      "\n",
      "See the caveats in the documentation: https://pandas.pydata.org/pandas-docs/stable/user_guide/indexing.html#returning-a-view-versus-a-copy\n",
      "  data.Review[i]=' '.join([w for w in filtered_sentence if w not in string.punctuation]) #remove punctuations\n"
     ]
    },
    {
     "name": "stdout",
     "output_type": "stream",
     "text": [
      "After pre-processing: 1992 bought new taurus really loved 1999 decided try new taurus care style newer version bought anyway like new car half much liked one thee dash much deep takes lot room find seats comfortable way sides stick strip protect card denting drives nice good pick see hood driver seat judging parking difficult small gas tank would buy taurus would rather 1992 back dont think style nice 1992 mistake change style less month dead battery flat tire\n"
     ]
    }
   ],
   "source": [
    "#task1.1\n",
    "\n",
    "#data preprocessing\n",
    "#1.tokenize and set lowercase\n",
    "#2.remove stopwords and punctuations\n",
    "#demonstrate 1&2 using print data.Review[0] before and after pre-processing\n",
    "\n",
    "stop_words = set(stopwords.words('english'))  \n",
    "\n",
    "print('Before pre-processing:',data.Review[0])\n",
    "for i in range(len(data.Review)):\n",
    "    word_tokens = word_tokenize(data.Review[i].lower())  #set lowercase\n",
    "    filtered_sentence = [w for w in word_tokens if not w in stop_words] #remove stopwords\n",
    "    data.Review[i]=' '.join([w for w in filtered_sentence if w not in string.punctuation]) #remove punctuations\n",
    "    \n",
    "#demonstrate that words and punctuation, which are unlikely to affect sentiment, have been excluded\n",
    "print('After pre-processing:',data.Review[0])"
   ]
  },
  {
   "cell_type": "code",
   "execution_count": 5,
   "metadata": {},
   "outputs": [],
   "source": [
    "#task1.2\n",
    "#stemming\n",
    "\n",
    "from nltk.stem import PorterStemmer\n",
    "from nltk.tokenize import sent_tokenize, word_tokenize\n",
    "from nltk.stem.porter import PorterStemmer\n",
    "from nltk.stem.wordnet import WordNetLemmatizer\n",
    "\n",
    "\n",
    "ps = PorterStemmer()\n",
    "lem = WordNetLemmatizer()\n",
    "\n",
    "def stemming(wordslist):\n",
    "    stemmed_words=[]\n",
    "    for w in wordslist:\n",
    "        w=ps.stem(w)\n",
    "        word=lem.lemmatize(w,\"v\")\n",
    "        stemmed_words.append(word)\n",
    "    return stemmed_words"
   ]
  },
  {
   "cell_type": "code",
   "execution_count": 6,
   "metadata": {},
   "outputs": [
    {
     "name": "stdout",
     "output_type": "stream",
     "text": [
      "['liked', 'likes'] after stemming: ['like', 'like']\n",
      "['lying', 'lied', 'lies'] after stemming: ['lie', 'lie', 'lie']\n",
      "['nationality', 'nations'] after stemming: ['nation', 'nation']\n",
      "['bought', 'buys'] after stemming: ['buy', 'buy']\n"
     ]
    }
   ],
   "source": [
    "#task1.2\n",
    "#demonstrates that words with the same stem have been appropriately recognised and treated as variations of the stem\n",
    "stem1=['liked', 'likes']\n",
    "stem2=['lying', 'lied', 'lies']\n",
    "stem3=['nationality','nations']\n",
    "stem4=['bought', 'buys']\n",
    "print(stem1, 'after stemming:', stemming(stem1))\n",
    "print(stem2, 'after stemming:',stemming(stem2))\n",
    "print(stem3, 'after stemming:', stemming(stem3))\n",
    "print(stem4, 'after stemming:', stemming(stem4))"
   ]
  },
  {
   "cell_type": "code",
   "execution_count": 7,
   "metadata": {},
   "outputs": [
    {
     "name": "stderr",
     "output_type": "stream",
     "text": [
      "<ipython-input-7-a31d554d83ac>:8: SettingWithCopyWarning: \n",
      "A value is trying to be set on a copy of a slice from a DataFrame\n",
      "\n",
      "See the caveats in the documentation: https://pandas.pydata.org/pandas-docs/stable/user_guide/indexing.html#returning-a-view-versus-a-copy\n",
      "  data.Review[i]=' '.join(stemmed_words)\n"
     ]
    },
    {
     "name": "stdout",
     "output_type": "stream",
     "text": [
      "      Sentiment                                             Review\n",
      "0             0  1992 buy new tauru realli love 1999 decid tri ...\n",
      "1             0  last busi trip drive san francisco go hertz re...\n",
      "2             0  husband purchas 1990 ford f250 noth problem ow...\n",
      "3             0  feel thorough opinion truck compar post evalu ...\n",
      "4             0  mother 3 still carseat logic thing trade 200sx...\n",
      "...         ...                                                ...\n",
      "1377          1  june buy soni limit edit focu se 4 dr sedan si...\n",
      "1378          1  140 000 mile decid replac wife 1990 toyota cam...\n",
      "1379          1  ford focu great littl record set car first car...\n",
      "1380          1  need new car hyundai excel 91 decid shop aroun...\n",
      "1381          1  2000 ford focu se 4 door sedan spaciou interio...\n",
      "\n",
      "[1382 rows x 2 columns]\n"
     ]
    }
   ],
   "source": [
    "#stemming\n",
    "\n",
    "for i in range(len(data.Review)):\n",
    "    \n",
    "    review=data.Review[i]\n",
    "    lstreview = review.split(\" \")\n",
    "    stemmed_words=stemming(lstreview)\n",
    "    data.Review[i]=' '.join(stemmed_words) \n",
    "\n",
    "\n",
    "#print(\"Stemmed Sentence:\",stemmed_words)\n",
    "print(data)\n",
    "\n"
   ]
  },
  {
   "cell_type": "code",
   "execution_count": 8,
   "metadata": {},
   "outputs": [
    {
     "name": "stdout",
     "output_type": "stream",
     "text": [
      "number of features: 10840\n",
      "vector created for data.Review:\n",
      "[[0 0 0 ... 0 0 0]\n",
      " [0 0 0 ... 0 0 0]\n",
      " [0 2 0 ... 0 0 0]\n",
      " ...\n",
      " [0 1 0 ... 0 2 0]\n",
      " [0 0 0 ... 0 0 0]\n",
      " [0 0 0 ... 0 0 0]]\n"
     ]
    }
   ],
   "source": [
    "#task1.3 feature extraction\n",
    "#demonstrate that a vector has been created for each review\n",
    "from sklearn.feature_extraction.text import CountVectorizer\n",
    "cv=CountVectorizer()\n",
    "text_vec = cv.fit_transform(data.Review)\n",
    "print('number of features:',len(cv.get_feature_names()))\n",
    "print('vector created for data.Review:')\n",
    "print(text_vec.toarray())"
   ]
  },
  {
   "cell_type": "code",
   "execution_count": 9,
   "metadata": {},
   "outputs": [
    {
     "name": "stdout",
     "output_type": "stream",
     "text": [
      "vectors created for data.Review[0] and data.Review[1]:\n",
      "[[0 3 1 0 0 0 1 0 1 0 1 0 0 0 3 1 1 1 1 0 0 1 0 1 1 1 1 1 1 0 1 1 1 0 0 0\n",
      "  0 0 1 0 0 1 0 0 0 1 0 0 1 1 0 0 0 1 0 0 1 0 0 1 2 0 0 0 0 1 1 0 0 0 0 1\n",
      "  0 1 2 0 3 1 2 0 0 1 0 1 0 1 0 0 0 0 1 0 1 1 0 0 0 0 1 0 0 2 1 0 1 0 1 0\n",
      "  1 1 3 0 0 1 1 3 1 0 1 0 1 1 0 0 0 0 0 0 0 0 1 1 0 0 0 2]\n",
      " [1 0 2 1 1 1 0 1 0 1 0 1 1 2 1 7 0 0 0 1 1 8 1 0 0 0 0 0 0 1 0 2 1 1 1 1\n",
      "  1 1 2 1 1 0 2 1 1 0 3 1 0 0 1 1 1 0 2 1 0 1 1 0 0 1 3 2 1 2 0 3 1 2 1 0\n",
      "  1 0 0 1 0 0 0 1 1 0 1 0 1 0 1 1 1 1 0 2 0 0 2 1 1 1 0 1 1 3 0 2 0 1 0 1\n",
      "  0 0 0 1 1 0 0 5 0 1 2 1 0 0 1 7 1 4 1 3 1 1 0 0 1 1 1 2]]\n"
     ]
    }
   ],
   "source": [
    "#task1.3\n",
    "##demonstrate clearly that a vector has been created for data.Review[0] and data.Review[1]\n",
    "print('vectors created for data.Review[0] and data.Review[1]:')\n",
    "print(cv.fit_transform(data.Review[0:2]).toarray())"
   ]
  },
  {
   "cell_type": "code",
   "execution_count": 10,
   "metadata": {},
   "outputs": [
    {
     "name": "stdout",
     "output_type": "stream",
     "text": [
      "test size/data size = 20%\n",
      "train size/data size = 80%\n"
     ]
    }
   ],
   "source": [
    "#task1.5\n",
    "\n",
    "\n",
    "from sklearn.model_selection import train_test_split\n",
    "X_train, X_test, y_train, y_test = train_test_split(text_vec, data.Sentiment, test_size = 0.2\n",
    "                                                    , random_state = 42, shuffle = True)\n",
    "#demonstrate 80% of the data has been used to train the classification model\n",
    "#the remaining 20% of the data set has been used as test data control by test_size=0.2\n",
    "#data is randomized by using 'random_state = 42, shuffle = True'\n",
    "print('test size/data size = {:.0%}'.format(len(y_test)/len(data)))\n",
    "print('train size/data size = {:.0%}'.format(len(y_train)/len(data)))\n"
   ]
  },
  {
   "cell_type": "code",
   "execution_count": 11,
   "metadata": {},
   "outputs": [
    {
     "name": "stdout",
     "output_type": "stream",
     "text": [
      "MultinomialNB Accuracy: 0.8086642599277978\n"
     ]
    }
   ],
   "source": [
    "#task1.4 \n",
    "#Naïve Bayes model has been used through sklearn\n",
    "\n",
    "from sklearn.naive_bayes import MultinomialNB\n",
    "#Import scikit-learn metrics module for accuracy calculation\n",
    "from sklearn import metrics\n",
    "# Model Generation Using Multinomial Naive Bayes\n",
    "clf = MultinomialNB().fit(X_train, y_train)\n",
    "predicted= clf.predict(X_test)\n",
    "print(\"MultinomialNB Accuracy:\",metrics.accuracy_score(y_test, predicted))"
   ]
  },
  {
   "cell_type": "code",
   "execution_count": 14,
   "metadata": {},
   "outputs": [
    {
     "name": "stdout",
     "output_type": "stream",
     "text": [
      "              precision    recall  f1-score   support\n",
      "\n",
      "           0       0.84      0.77      0.81       142\n",
      "           1       0.78      0.84      0.81       135\n",
      "\n",
      "    accuracy                           0.81       277\n",
      "   macro avg       0.81      0.81      0.81       277\n",
      "weighted avg       0.81      0.81      0.81       277\n",
      "\n",
      "Confusion Matrix: \n",
      " [[110  32]\n",
      " [ 21 114]]\n"
     ]
    },
    {
     "data": {
      "image/png": "[encoded data removed]",
      "text/plain": [
       "<Figure size 432x288 with 2 Axes>"
      ]
     },
     "metadata": {
      "needs_background": "light"
     },
     "output_type": "display_data"
    },
    {
     "name": "stdout",
     "output_type": "stream",
     "text": [
      "\n",
      "MultinomialNB(unigram) Accuracy:  0.8086642599277978\n"
     ]
    }
   ],
   "source": [
    "#task1.5\n",
    "#output a confusion matrix demonstrating the performance of the Naïve Bayes classifier\n",
    "#The confusion matrix must clearly indicate \n",
    "#the proportion of True Negatives, False Positives, False Negatives and True Positives.\n",
    "\n",
    "from sklearn.metrics import classification_report,confusion_matrix, accuracy_score\n",
    "print(classification_report(y_test ,predicted))\n",
    "print('Confusion Matrix: \\n', confusion_matrix(y_test,predicted))\n",
    "import matplotlib.pyplot as plt\n",
    "from sklearn.metrics import plot_confusion_matrix\n",
    "plot_confusion_matrix(clf, X_test, y_test)\n",
    "plt.show() \n",
    "\n",
    "print()\n",
    "print(\"MultinomialNB(unigram) Accuracy: \", accuracy_score(y_test,predicted))\n"
   ]
  },
  {
   "cell_type": "markdown",
   "metadata": {},
   "source": [
    "# Task 2 Improve Solution in Task 1\n",
    "\n",
    "In task 1, I use CountVectorizer in feature extraction and unigram Naïve Bayes to classify reviews. The accuracy of this method is about 80.87% as shown above.\n",
    "For task 2, I would like to apply modifications to the Naïve Bayes implementation to improve the accuracy. \n",
    "\n",
    "I would use TfidfVectorizer instead of CountVectorizer for converting text data into vectors in the process of feature extraction.\n",
    "\n",
    " \n",
    "## The Reason to Use TfidfVectorizer\n",
    "\n",
    "### CountVectorizer vs TfidfVectorizer\n",
    "CountVectorizer can convert a collection of text documents to a matrix of token counts as stated in the document of scikit-learn 0.23.2 [1].\n",
    "In CountVectorizer we only count the number of times a word appears in the document which results in biasing in favour of most frequent words. This ends up in ignoring rare words which could have helped is in processing our data more efficiently.\n",
    "\n",
    "To overcome this, we can use TfidfVectorizer.\n",
    "TF–IDF, term frequency–inverse document frequency, encoding normalizes the frequency of tokens in a document with respect to the rest of the corpus. TF–IDF is computed on a per-term basis, such that the relevance of a token to a document is measured by the scaled frequency of the appearance of the term in the document, normalized by the inverse of the scaled frequency of the term in the entire corpus [2].\n",
    "\n",
    "In other words, in TfidfVectorizer we consider overall document weightage of a word. It helps us in dealing with most frequent words. Using it we can penalize them. TfidfVectorizer weights the word counts by a measure of how often they appear in the documents.\n",
    "\n",
    "So I would expected Naïve Bayes using the TfidfVectorizer to give better performance.\n",
    "\n",
    "\n",
    "\n",
    "### References:\n",
    "[1]Scikit-learn: Machine Learning in Python, Pedregosa et al., JMLR 12, pp. 2825-2830, 2011.\n",
    "\n",
    "[2]Benjamin Bengfort, Rebecca Bilbro, Tony Ojeda. Applied Text Analysis with Python Chapter 4 Text Vectorization and Transformation Pipelines.\n",
    "\n"
   ]
  },
  {
   "cell_type": "code",
   "execution_count": 15,
   "metadata": {},
   "outputs": [
    {
     "name": "stdout",
     "output_type": "stream",
     "text": [
      "MultinomialNB using TfidfVectorizer Accuracy: 0.8122743682310469\n",
      "New Confusion Matrix: \n",
      " [[108  34]\n",
      " [ 18 117]]\n"
     ]
    },
    {
     "data": {
      "image/png": "[encoded data removed]",
      "text/plain": [
       "<Figure size 432x288 with 2 Axes>"
      ]
     },
     "metadata": {
      "needs_background": "light"
     },
     "output_type": "display_data"
    }
   ],
   "source": [
    "#task2.2\n",
    "#explain the steps that have been taken to implement the improved approach\n",
    "#in task 2, to apply TfidfVectorizer we only make changes to the feature extraction step.\n",
    "\n",
    "\n",
    "\n",
    "##to create vectors for each review, use TfidfVectorizer instead of CountVectorizer\n",
    "from sklearn.feature_extraction.text import TfidfVectorizer\n",
    "tf_text_vec = TfidfVectorizer().fit_transform(data.Review)\n",
    "\n",
    "#use the vectors created by TfidfVectorizer to obtain new train data and new test data\n",
    "from sklearn.model_selection import train_test_split\n",
    "tfX_train, tfX_test, tfy_train, tfy_test = train_test_split(tf_text_vec, data.Sentiment, test_size = 0.2\n",
    "                                                    , random_state = 42, shuffle = True)\n",
    "\n",
    "from sklearn.naive_bayes import MultinomialNB\n",
    "#Import scikit-learn metrics module for accuracy calculation\n",
    "from sklearn import metrics\n",
    "# Model Generation Using Multinomial Naive Bayes\n",
    "tfclf = MultinomialNB().fit(tfX_train, tfy_train)\n",
    "tfpredicted= tfclf.predict(tfX_test)\n",
    "print(\"MultinomialNB using TfidfVectorizer Accuracy:\",metrics.accuracy_score(tfy_test, tfpredicted))\n",
    "print('New Confusion Matrix: \\n', confusion_matrix(tfy_test,tfpredicted))\n",
    "import matplotlib.pyplot as plt\n",
    "from sklearn.metrics import plot_confusion_matrix\n",
    "plot_confusion_matrix(tfclf, tfX_test, tfy_test)\n",
    "plt.show() "
   ]
  },
  {
   "cell_type": "markdown",
   "metadata": {},
   "source": [
    "## Comparision\n",
    "### Compare the Accuracy\n",
    "The accuracy is about 80.87% in task 1, and increases slightly to 81.23% in task 2. Although it seems that the accuracy improves, we need to note that the accuracy of the two methods is very close.\n",
    "\n",
    "### Compare the Confusion Matrix\n",
    "From the two confusion matrices we can see that the number of true positives is 110 in the method of CountVectorizer, while in the method of TfidfVectorizer the number of true positives is 108 which is slightly fewer. For the number of false positives, the method of TfidfVectorizer (117) performs slightly better than   the method of CountVectorizer (114).\n",
    "\n",
    "So the total number of correct prediction using the method of TfidfVectorizer (225) is only one more than that using the method of CountVectorizer.\n",
    "\n",
    "\n",
    "In theory, the method of TfidfVectorizer would outperform the method of CountVectorizer. But in this case, it is not very obvious. The reason why this happens may be that the size of the test data is not very large and lack some generalizetion."
   ]
  },
  {
   "cell_type": "code",
   "execution_count": null,
   "metadata": {},
   "outputs": [],
   "source": []
  }
 ],
 "metadata": {
  "kernelspec": {
   "display_name": "Python 3",
   "language": "python",
   "name": "python3"
  },
  "language_info": {
   "codemirror_mode": {
    "name": "ipython",
    "version": 3
   },
   "file_extension": ".py",
   "mimetype": "text/x-python",
   "name": "python",
   "nbconvert_exporter": "python",
   "pygments_lexer": "ipython3",
   "version": "3.8.3"
  }
 },
 "nbformat": 4,
 "nbformat_minor": 4
}
